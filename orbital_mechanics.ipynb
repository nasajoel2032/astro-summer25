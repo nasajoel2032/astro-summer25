{
 "cells": [
  {
   "cell_type": "code",
   "execution_count": 58,
   "id": "20995a05-7d64-46a5-af2d-5a1c6046a3ea",
   "metadata": {},
   "outputs": [],
   "source": [
    "# import necesarry libraries\n",
    "import matplotlib.pyplot as plt\n",
    "import numpy as np\n",
    "import pandas as pd\n",
    "from scipy.integrate import ode\n",
    "from mpl_toolkits.mplot3d import Axes3D\n",
    "from matplotlib import animation\n",
    "\n",
    "def ode(t,y,mu):\n",
    "    # unpack state \n",
    "    rx,ry,rz,vx,vy,vz=y\n",
    "    r=np.array([rx,ry,rz])\n",
    "    # norm of the radius vector for acceleration calculations\n",
    "    norm=np.linalg.norm(r)\n",
    "    # gravitational acceleration\n",
    "    ax,ay,az=-r*mu/norm**3\n",
    "\n",
    "    return [vx,vy,vz,ax,ay,az]"
   ]
  },
  {
   "cell_type": "code",
   "execution_count": null,
   "id": "4f552ebd-1cba-4c8b-92e1-a59a2ec0baca",
   "metadata": {},
   "outputs": [],
   "source": []
  }
 ],
 "metadata": {
  "kernelspec": {
   "display_name": "Python [conda env:base] *",
   "language": "python",
   "name": "conda-base-py"
  },
  "language_info": {
   "codemirror_mode": {
    "name": "ipython",
    "version": 3
   },
   "file_extension": ".py",
   "mimetype": "text/x-python",
   "name": "python",
   "nbconvert_exporter": "python",
   "pygments_lexer": "ipython3",
   "version": "3.12.7"
  }
 },
 "nbformat": 4,
 "nbformat_minor": 5
}
